{
 "cells": [
  {
   "cell_type": "markdown",
   "metadata": {},
   "source": [
    "## Plot histograms from MP3C data"
   ]
  },
  {
   "cell_type": "code",
   "execution_count": null,
   "metadata": {},
   "outputs": [],
   "source": [
    "import warnings\n",
    "warnings.simplefilter('ignore', FutureWarning)\n",
    "from pandas import *\n",
    "import numpy as np\n",
    "%matplotlib inline\n",
    "from calendar import monthrange\n",
    "from math import *"
   ]
  },
  {
   "cell_type": "code",
   "execution_count": null,
   "metadata": {},
   "outputs": [],
   "source": [
    "# Read in MP3C data from local file\n",
    "# DtypeWarning: Columns (3,4,15,22,23,69) have mixed types.Specify dtype option on import or set low_memory=False.\n",
    "MP3C_ALL = read_csv('MP3C/mp3c-all.txt', sep='\\t', low_memory=False)\n",
    "MP3C_NEA = read_csv('MP3C/mp3c-nea.txt', sep='\\t', low_memory=False)\n",
    "MP3C_AA = read_csv('MP3C/mp3c-atens-and-apollos.txt', sep='\\t', low_memory=False)"
   ]
  },
  {
   "cell_type": "code",
   "execution_count": null,
   "metadata": {},
   "outputs": [],
   "source": [
    "MP3C_ALL['mass_per'] = MP3C_ALL['mass_err']/MP3C_ALL['mass']*100\n",
    "MP3C_NEA['mass_per'] = MP3C_NEA['mass_err']/MP3C_NEA['mass']*100\n",
    "MP3C_AA['mass_per'] = MP3C_AA['mass_err']/MP3C_AA['mass']*100"
   ]
  },
  {
   "cell_type": "code",
   "execution_count": null,
   "metadata": {},
   "outputs": [],
   "source": [
    "# Count number of asteroids with no mass_err\n",
    "# Plot histogram\n",
    "# Add extra class with no mass_err?\n",
    "print(f'Number of asteroids with mass defined: {MP3C_ALL.shape[0]}')\n",
    "print(f'Number of NEA with mass defined: {MP3C_NEA.shape[0]}')\n",
    "print(f'Number of Atens/Apollos with mass defined: {MP3C_AA.shape[0]}')\n",
    "print(f'Number of asteroids with mass error defined: {MP3C_ALL.dropna(subset=[\"mass_err\"]).shape[0]}')\n",
    "print(f'Number of NEA with mass error defined: {MP3C_NEA.dropna(subset=[\"mass_err\"]).shape[0]}')\n",
    "print(f'Number of Atens/Apollos with mass error defined: {MP3C_AA.dropna(subset=[\"mass_err\"]).shape[0]}')"
   ]
  },
  {
   "cell_type": "code",
   "execution_count": null,
   "metadata": {},
   "outputs": [],
   "source": [
    "import matplotlib.pyplot as plt\n",
    "\n",
    "fig, ax = plt.subplots(nrows=1, \n",
    "                        ncols=1, \n",
    "                        # sharex='col', \n",
    "                        sharey='row', \n",
    "                        squeeze=True, \n",
    "                        figsize=(6, 4))\n",
    "\n",
    "MP3C_ALL['log10(M)'] = MP3C_ALL['mass'].apply(log10)\n",
    "\n",
    "plt.hist(MP3C_ALL['log10(M)'], \n",
    "    bins=np.arange(8,25,1)\n",
    "    )\n",
    "ax.set(ylabel = 'Frequency', xlabel = 'log10(M [kg])')\n",
    "fig.patch.set_alpha(1)\n",
    "fig.tight_layout()\n",
    "plt.savefig('MP3C_ALL.png')\n",
    "plt.show()\n",
    "plt.close()\n",
    "print(MP3C_ALL['mass_per'].min(), MP3C_ALL['mass_per'].max(), MP3C_ALL['mass_per'].mean())"
   ]
  },
  {
   "cell_type": "code",
   "execution_count": null,
   "metadata": {},
   "outputs": [],
   "source": [
    "import matplotlib.pyplot as plt\n",
    "\n",
    "fig, ax = plt.subplots(nrows=1, \n",
    "                        ncols=1, \n",
    "                        # sharex='col', \n",
    "                        sharey='row', \n",
    "                        squeeze=True, \n",
    "                        figsize=(6, 4))\n",
    "\n",
    "MP3C_AA['log10(M)'] = MP3C_AA['mass'].apply(log10)\n",
    "\n",
    "plt.hist(MP3C_AA['log10(M)'], \n",
    "    bins=np.arange(8,25,1)\n",
    "    )\n",
    "ax.set(ylabel = 'Frequency', xlabel = 'log10(M [kg])')\n",
    "fig.patch.set_alpha(1)\n",
    "fig.tight_layout()\n",
    "plt.savefig('MP3C_AA.png')\n",
    "plt.show()\n",
    "plt.close()\n",
    "print(MP3C_AA['mass_per'].min(), MP3C_AA['mass_per'].max(), MP3C_AA['mass_per'].mean())"
   ]
  },
  {
   "cell_type": "code",
   "execution_count": null,
   "metadata": {},
   "outputs": [],
   "source": [
    "import matplotlib.pyplot as plt\n",
    "\n",
    "fig, ax = plt.subplots(nrows=1, \n",
    "                        ncols=1, \n",
    "                        # sharex='col', \n",
    "                        sharey='row', \n",
    "                        squeeze=True, \n",
    "                        figsize=(6, 4))\n",
    "plt.hist(MP3C_ALL.dropna(subset=['mass_err'])['mass_per'], \n",
    "    bins=np.arange(0,150,10)\n",
    "    )\n",
    "ax.set(ylabel = 'Frequency', xlabel = 'Relative uncertainty (%)')\n",
    "fig.patch.set_alpha(1)\n",
    "fig.tight_layout()\n",
    "plt.savefig('MP3C_ALL_unc.png')\n",
    "plt.show()\n",
    "plt.close()\n",
    "print(MP3C_ALL['mass_per'].min(), MP3C_ALL['mass_per'].max(), MP3C_ALL['mass_per'].mean(), MP3C_ALL['mass_per'].median(), )"
   ]
  },
  {
   "cell_type": "code",
   "execution_count": null,
   "metadata": {},
   "outputs": [],
   "source": [
    "import matplotlib.pyplot as plt\n",
    "\n",
    "fig, ax = plt.subplots(nrows=1, \n",
    "                        ncols=1, \n",
    "                        # sharex='col', \n",
    "                        sharey='row', \n",
    "                        squeeze=True, \n",
    "                        figsize=(6, 4))\n",
    "plt.hist(MP3C_NEA.dropna(subset=['mass_err'])['mass_per'], \n",
    "    bins=np.arange(0,50,5)\n",
    "    )\n",
    "ax.set(ylabel = 'Frequency', xlabel = 'Relative uncertainty (%)')\n",
    "fig.patch.set_alpha(1)\n",
    "fig.tight_layout()\n",
    "plt.savefig('MP3C_AA_unc.png')\n",
    "plt.show()\n",
    "plt.close()\n",
    "print(MP3C_NEA['mass_per'].min(), MP3C_NEA['mass_per'].max(), MP3C_NEA['mass_per'].mean())"
   ]
  }
 ],
 "metadata": {
  "kernelspec": {
   "display_name": "Python 3.9.12 64-bit",
   "language": "python",
   "name": "python3"
  },
  "language_info": {
   "codemirror_mode": {
    "name": "ipython",
    "version": 3
   },
   "file_extension": ".py",
   "mimetype": "text/x-python",
   "name": "python",
   "nbconvert_exporter": "python",
   "pygments_lexer": "ipython3",
   "version": "3.9.12"
  },
  "orig_nbformat": 4,
  "vscode": {
   "interpreter": {
    "hash": "b0fa6594d8f4cbf19f97940f81e996739fb7646882a419484c72d19e05852a7e"
   }
  }
 },
 "nbformat": 4,
 "nbformat_minor": 2
}
