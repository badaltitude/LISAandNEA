{
 "cells": [
  {
   "cell_type": "markdown",
   "metadata": {},
   "source": [
    "## Extract the dataset for ML from a load of LISA simulations"
   ]
  },
  {
   "cell_type": "code",
   "execution_count": null,
   "metadata": {},
   "outputs": [],
   "source": [
    "import matplotlib.pyplot as plt\n",
    "import numpy as np\n",
    "from tqdm import tqdm\n",
    "import utils"
   ]
  },
  {
   "cell_type": "code",
   "execution_count": null,
   "metadata": {
    "tags": [
     "parameters"
    ]
   },
   "outputs": [],
   "source": [
    "# Parameters cell for Papermill\n",
    "\n",
    "run_id = 'df3_20220628_152636'"
   ]
  },
  {
   "cell_type": "code",
   "execution_count": null,
   "metadata": {},
   "outputs": [],
   "source": [
    "def get_file_name(output_file, file_type):\n",
    "    return utils.get_output_file_name(output_dir, f'{output_file}_{run_id}', file_type)"
   ]
  },
  {
   "cell_type": "code",
   "execution_count": null,
   "metadata": {},
   "outputs": [],
   "source": [
    "\n",
    "dataset_name = run_id.split('_')[0]\n",
    "dir = f'/Users/stevemead/LISAandNEA/datasets/{run_id}'\n",
    "output_dir = dir\n",
    "total_instances = 3000\n",
    "time_series_length = 640\n",
    "\n",
    "# Create the numpy array used to store the output dataset\n",
    "# parameterise the 600\n",
    "\n",
    "all_signals = ['total', 'offsets', 'fluctuations']\n",
    "\n",
    "for signals in all_signals:\n",
    "\n",
    "    dataset = np.zeros((total_instances,time_series_length,6))\n",
    "\n",
    "    # for index in range(1): # Use when plotting graphs with True below\n",
    "    for index in tqdm(range(total_instances), desc=f'Processing {signals}', unit='instance'):        \n",
    "        \n",
    "        tdi_data_path = get_file_name(f'data_tdi_{signals}_{index}', 'npy')\n",
    "        tdi_data = np.load(tdi_data_path)\n",
    "        dataset[index,:,:] = tdi_data\n",
    "\n",
    "        if False:\n",
    "            print(f'Compare {signals} XYZ2 from tdi_data then dataset')\n",
    "            fig = plt.subplots(figsize=(12,3))\n",
    "            plt.plot(tdi_data[:,0:3])\n",
    "            plt.show()\n",
    "            fig = plt.subplots(figsize=(12,3))\n",
    "            plt.plot(dataset[index,:,0:3])\n",
    "            plt.show()\n",
    "            print(f'Compare {signals} AET2 from tdi_data then dataset')\n",
    "            fig = plt.subplots(figsize=(12,3))\n",
    "            plt.plot(tdi_data[:,3:6])\n",
    "            plt.show()\n",
    "            fig = plt.subplots(figsize=(12,3))\n",
    "            plt.plot(dataset[index,:,3:6])\n",
    "            plt.show()\n",
    "        \n",
    "    dataset_path = get_file_name(f'dataset_{signals}', 'npy')\n",
    "    np.save(dataset_path, dataset)"
   ]
  }
 ],
 "metadata": {
  "kernelspec": {
   "display_name": "Python 3.9.12 ('venv': venv)",
   "language": "python",
   "name": "python3"
  },
  "language_info": {
   "codemirror_mode": {
    "name": "ipython",
    "version": 3
   },
   "file_extension": ".py",
   "mimetype": "text/x-python",
   "name": "python",
   "nbconvert_exporter": "python",
   "pygments_lexer": "ipython3",
   "version": "3.9.12"
  },
  "orig_nbformat": 4,
  "vscode": {
   "interpreter": {
    "hash": "36466534b9494da9b96c3dc3c9d50c6000192fd0b07a68f54654207be0196115"
   }
  }
 },
 "nbformat": 4,
 "nbformat_minor": 2
}
