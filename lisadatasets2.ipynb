{
 "cells": [
  {
   "cell_type": "markdown",
   "metadata": {},
   "source": [
    "## Define the simulation variables for the datasets"
   ]
  },
  {
   "cell_type": "code",
   "execution_count": null,
   "metadata": {},
   "outputs": [],
   "source": [
    "import pandas as pd\n",
    "import numpy as np\n",
    "from numpy import pi, log10\n",
    "from numpy.random import default_rng, random, choice\n",
    "import matplotlib.pyplot as plt"
   ]
  },
  {
   "cell_type": "code",
   "execution_count": null,
   "metadata": {
    "tags": [
     "parameters"
    ]
   },
   "outputs": [],
   "source": [
    "# Parameters cell for Papermill\n",
    "\n",
    "df_iter = 6\n",
    "save_file = False"
   ]
  },
  {
   "cell_type": "code",
   "execution_count": null,
   "metadata": {},
   "outputs": [],
   "source": [
    "root_dir = '/Users/stevemead/LISAandNEA'\n",
    "classes = ['glitch', 'nea', 'gwburst']\n",
    "instances_per_class = 1000\n",
    "total_instances = len(classes)*instances_per_class\n",
    "all_sc = ['1', '2', '3']\n",
    "all_inj_points = ['tm_12', 'tm_23', 'tm_31', 'tm_13', 'tm_32', 'tm_21']\n",
    "\n",
    "rng = default_rng() # specify the seed for reproducible results\n",
    "\n",
    "# a pandas dataframe is used to store the variables used to create each instance in the dataset\n",
    "df = pd.DataFrame()"
   ]
  },
  {
   "cell_type": "markdown",
   "metadata": {},
   "source": [
    "### Define the datasets\n",
    "\n",
    "1. Rectangles: fixed amplitude, duration and skyloc\n",
    "2. Amplitudes and duration from normal distributions\n",
    "3. GW bursts uniformly and randomly distributed across the sky\n",
    "4. With laser noise\n",
    "5. Glitches as shapelets, NEA encounter with fixed M, V and D from incident angles uniformly and randomly distributed, GW bursts as gaussian pulses\n",
    "6. NEA encounters with various M, V and D\n",
    "7. With laser noise\n",
    "8. Selected values of V (10, 20, 40 km s-1) - was not used in the final report"
   ]
  },
  {
   "cell_type": "code",
   "execution_count": null,
   "metadata": {},
   "outputs": [],
   "source": [
    "# Dataset 1 and all others\n",
    "df['type'] = df['type'] = [x for x in classes for y in range(instances_per_class)]\n",
    "df['t_random'] = (rng.random(size=total_instances)-0.5)*20. # [s] range from -10 to +10 s\n",
    "df.loc[df.type == 'glitch', 'glitch_type'] = 'RectangleGlitch'\n",
    "df.loc[df.type == 'nea', 'glitch_type'] = 'RectangleGlitch'\n",
    "df['glitch_inj_point'] = rng.choice(all_inj_points, total_instances)\n",
    "df['glitch_width'] = 20. # [s]\n",
    "df['glitch_level'] = 1.e-11 # [m s-1]\n",
    "df.loc[df.type == 'glitch', 'glitch_beta'] = 1.\n",
    "df.loc[df.type == 'nea', 'nea_model'] = rng.choice(['pair_of_glitches_1', 'pair_of_glitches_2'], instances_per_class) # pair_of_glitches_1 pair_of_glitches_2 nea\n",
    "df['nea_glitch_ratio'] = 1/3 \n",
    "df['nea_sc'] = rng.choice(all_sc, total_instances)\n",
    "df['nea_M'] = 1.e9 # [kg]\n",
    "df['nea_D'] = 1.e5 # [m]\n",
    "df['nea_V'] = 4e4 # [m s-1]\n",
    "df['nea_angle_X'] = 0. # [deg] \n",
    "df['nea_angle_Y'] = 0. # [deg] \n",
    "df['nea_angle_Z'] = 0. # [deg] \n",
    "df.loc[df.type == 'gwburst', 'gw_model'] = 'rectangle' # rectangle gaussian\n",
    "df['gw_width'] = 20. # [s]\n",
    "df['gw_level'] = 3.e-20 # [dimensionless strain]\n",
    "df['gw_sigma'] = 1.\n",
    "df['gw_beta'] = 0. # [rad]\n",
    "df['gw_lambda'] = 0. # [rad]\n",
    "df['noise'] = 'none'\n",
    "\n",
    "# Datasets 2+ (not dataset 1)\n",
    "if df_iter in [2,3,4,5,6,7,8]:\n",
    "    # modify only the columns that changed from the previous dataset iteration\n",
    "    df['glitch_width'] = rng.normal(loc=2., scale=0.33, size=total_instances)\n",
    "    df['glitch_level'] = rng.normal(loc=1.e-11, scale=0.11e-11, size=total_instances)\n",
    "    df['nea_glitch_ratio'] = rng.uniform(low=0.1, high=1.0, size=total_instances)\n",
    "    df['gw_width'] = rng.normal(loc=2., scale=0.33, size=total_instances)\n",
    "    df['gw_level'] = rng.normal(loc=3.e-20, scale=0.33e-20, size=total_instances)\n",
    "      # gw_beta constant\n",
    "      # gw_lambda constant\n",
    "\n",
    "# Datasets 3+ (not datasets 1 or 2)\n",
    "if df_iter in [3,4,5,6,7,8]:\n",
    "    df['gw_beta'] = rng.uniform(low=-pi/2, high=pi/2, size=total_instances) # [rad] ecliptic latitude of gravitational-wave source \n",
    "    df['gw_lambda'] = rng.uniform(low=-pi, high=pi, size=total_instances) # [rad] ecliptic longitude of gravitational-wave source \n",
    "\n",
    "# Dataset 4 has noise turned on\n",
    "if df_iter in [4]:\n",
    "    df['noise'] = 'clock'\n",
    "\n",
    "# Datasets 5+ (not datasets 1 - 4)\n",
    "if df_iter in [5,6,7,8]:\n",
    "    # Glitches use a shapelet with damping time (beta)\n",
    "    df.loc[df.type == 'glitch', 'glitch_type'] = 'IntegratedShapeletGlitch'\n",
    "    df.loc[df.type == 'glitch', 'glitch_beta'] = rng.uniform(0.01, 10, instances_per_class)\n",
    "    # NEA use the physical model, fixed M,V & D, random uniformly distributed orientation\n",
    "    df.loc[df.type == 'nea', 'nea_model'] = 'nea' # pair_of_glitches_1 pair_of_glitches_2 nea\n",
    "    df['nea_angle_X'] = rng.uniform(low=-180, high=180, size=total_instances) # [deg]\n",
    "    df['nea_angle_Y'] = rng.uniform(low=-90, high=90, size=total_instances) # [deg]\n",
    "    df['nea_angle_Z'] = rng.uniform(low=-180, high=180, size=total_instances) # [deg]\n",
    "    # GW bursts use a gaussian shape\n",
    "    df.loc[df.type == 'gwburst', 'gw_model'] = 'gaussian' # rectangle gaussian\n",
    "    df['gw_sigma'] = rng.uniform(low=0.01, high=10., size=total_instances)\n",
    "\n",
    "# Datasets 6+ (not datasets 1 - 5)\n",
    "if df_iter in [6,7,8]:\n",
    "    # Vary the NEAs' mass, relative velocity and impact parameter\n",
    "    # df['nea_M'] = rng.uniform(low=1e6, high=1e9, size=total_instances) # [kg]\n",
    "    df['nea_M'] = 10**rng.uniform(low=6, high=9, size=total_instances) # [kg] NOT A UNIFORM DISTRIBUTION!\n",
    "    df['nea_V'] = rng.uniform(low=1e4, high=4e4, size=total_instances) # [m s-1]\n",
    "    df['nea_D'] = rng.uniform(low=1e4, high=1e5, size=total_instances) # [m]\n",
    "\n",
    "# Datasets 7 and 8 have noise turned on\n",
    "if df_iter in [7,8]:\n",
    "    df['noise'] = 'clock'\n",
    "\n",
    "# Dataset 8 only\n",
    "if df_iter in [8]:\n",
    "    # Selected values of the NEA's relative velocity\n",
    "    df['nea_V'] = rng.choice([1e4,2e4,4e4], size=total_instances) # [m s-1]\n",
    "\n",
    "df['nea_tau'] = df['nea_D']/df['nea_V']\n",
    "df['nea_MoverDV'] = df['nea_M']/(df['nea_D']*df['nea_V'])\n",
    "\n",
    "# Shuffle the order of all instances in the dataset\n",
    "df = df.sample(frac=1).reset_index(drop=True)"
   ]
  },
  {
   "cell_type": "code",
   "execution_count": null,
   "metadata": {},
   "outputs": [],
   "source": [
    "df_path = f'{root_dir}/datasets/df{df_iter}.txt'\n",
    "if save_file:\n",
    "    df.to_csv(df_path, index=False)"
   ]
  },
  {
   "cell_type": "code",
   "execution_count": null,
   "metadata": {},
   "outputs": [],
   "source": [
    "def mass(d):\n",
    "    return log10(4/3*pi*(d/2)**3 * 2600)\n",
    "\n",
    "mass(10),mass(100),mass(1000),mass(10000)"
   ]
  },
  {
   "cell_type": "code",
   "execution_count": null,
   "metadata": {},
   "outputs": [],
   "source": [
    "def plot_histogram_of(series, title='', bins=20, xlabel='label me', ylabel='Frequency'):\n",
    "    fig = plt.subplot()\n",
    "    plt.hist(series,bins)\n",
    "    fig.set(title=title, ylabel=ylabel, xlabel=xlabel,)\n",
    "    plt.show()\n",
    "\n",
    "def plot_logx_histogram_of(series, title='', bins=20, xlabel='label me', ylabel='Frequency'):\n",
    "    fig = plt.subplot()\n",
    "    logbins = np.geomspace(series.min(), series.max(), bins+1)\n",
    "    plt.hist(series,logbins)\n",
    "    fig.set(title=title, ylabel=ylabel, xlabel=xlabel,)\n",
    "    plt.xscale('log')\n",
    "    plt.show()\n"
   ]
  },
  {
   "cell_type": "code",
   "execution_count": null,
   "metadata": {},
   "outputs": [],
   "source": [
    "plot_histogram_of(df['nea_M'], xlabel='NEA: mass [kg]')\n",
    "plot_logx_histogram_of(df['nea_M'], xlabel='NEA: mass [kg]', bins=21)"
   ]
  },
  {
   "cell_type": "code",
   "execution_count": null,
   "metadata": {},
   "outputs": [],
   "source": [
    "plot_histogram_of(df['nea_tau'], xlabel='NEA tau [s]')"
   ]
  },
  {
   "cell_type": "code",
   "execution_count": null,
   "metadata": {},
   "outputs": [],
   "source": [
    "plot_histogram_of(df['nea_MoverDV'], xlabel='NEA M/DV [kg m-2 s]')"
   ]
  },
  {
   "cell_type": "code",
   "execution_count": null,
   "metadata": {},
   "outputs": [],
   "source": [
    "plot_histogram_of(df['t_random'], xlabel='t_random [s]')\n",
    "plot_histogram_of(df['glitch_width'], xlabel='Glitch: width [s]')\n",
    "plot_histogram_of(df['glitch_level'], xlabel='Glitch: level [m s-1]')\n",
    "plot_histogram_of(df['glitch_beta'], xlabel='Glitch: beta')\n",
    "plot_histogram_of(df['nea_glitch_ratio'], xlabel='NEA: glitch ratio')\n",
    "plot_histogram_of(df['nea_M'], xlabel='NEA: mass [kg]')\n",
    "plot_logx_histogram_of(df['nea_M'], xlabel='NEA: mass [kg]')\n",
    "plot_histogram_of(df['nea_V'], xlabel='NEA: velocity [m s-1]')\n",
    "plot_histogram_of(df['nea_D'], xlabel='NEA: impact parameter [m]')\n",
    "plot_histogram_of(df['nea_angle_X'], xlabel='NEA: angle X [deg]')\n",
    "plot_histogram_of(df['nea_angle_Y'], xlabel='NEA: angle Y [deg]')\n",
    "plot_histogram_of(df['nea_angle_Z'], xlabel='NEA: angle Z [deg]')\n",
    "plot_histogram_of(df['gw_width'], xlabel='GW burst: width [s]')\n",
    "plot_histogram_of(df['gw_level'], xlabel='GW burst: level []')\n",
    "plot_histogram_of(df['gw_sigma'], xlabel='GW burst: sigma')\n",
    "plot_histogram_of(df['gw_beta'], xlabel='GW burst: beta [rad]')\n",
    "plot_histogram_of(df['gw_lambda'], xlabel='GW burst: lambda [rad]')"
   ]
  },
  {
   "cell_type": "code",
   "execution_count": null,
   "metadata": {},
   "outputs": [],
   "source": [
    "df[['nea_M','nea_D','nea_V','nea_tau']].head(20)"
   ]
  }
 ],
 "metadata": {
  "kernelspec": {
   "display_name": "Python 3.9.12 64-bit",
   "language": "python",
   "name": "python3"
  },
  "language_info": {
   "codemirror_mode": {
    "name": "ipython",
    "version": 3
   },
   "file_extension": ".py",
   "mimetype": "text/x-python",
   "name": "python",
   "nbconvert_exporter": "python",
   "pygments_lexer": "ipython3",
   "version": "3.9.12"
  },
  "orig_nbformat": 4,
  "vscode": {
   "interpreter": {
    "hash": "b0fa6594d8f4cbf19f97940f81e996739fb7646882a419484c72d19e05852a7e"
   }
  }
 },
 "nbformat": 4,
 "nbformat_minor": 2
}
